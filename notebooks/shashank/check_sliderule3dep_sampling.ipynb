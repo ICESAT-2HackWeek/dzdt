{
 "cells": [
  {
   "cell_type": "markdown",
   "id": "09f496a2-815d-4d3e-987a-14d46291dbf7",
   "metadata": {
    "user_expressions": []
   },
   "source": [
    "\n",
    "## Sliderule 3DEP sampling\n",
    "### From Scott's Arctic DEM sampling"
   ]
  },
  {
   "cell_type": "code",
   "execution_count": 1,
   "id": "304dead6-b757-4ce8-8802-17c88d442c86",
   "metadata": {
    "tags": []
   },
   "outputs": [],
   "source": [
    "import os\n",
    "os.environ['USE_PYGEOS'] = '0'\n",
    "import geopandas as gpd\n",
    "import boto3\n",
    "from sliderule import sliderule, icesat2"
   ]
  },
  {
   "cell_type": "code",
   "execution_count": 2,
   "id": "5dd6f504-dd8c-4aad-bfe7-85f91dca2ddf",
   "metadata": {
    "tags": []
   },
   "outputs": [
    {
     "data": {
      "text/html": [
       "<div style=\"width:100%;\"><div style=\"position:relative;width:100%;height:0;padding-bottom:60%;\"><span style=\"color:#565656\">Make this Notebook Trusted to load map: File -> Trust Notebook</span><iframe srcdoc=\"&lt;!DOCTYPE html&gt;\n",
       "&lt;html&gt;\n",
       "&lt;head&gt;\n",
       "    \n",
       "    &lt;meta http-equiv=&quot;content-type&quot; content=&quot;text/html; charset=UTF-8&quot; /&gt;\n",
       "    \n",
       "        &lt;script&gt;\n",
       "            L_NO_TOUCH = false;\n",
       "            L_DISABLE_3D = false;\n",
       "        &lt;/script&gt;\n",
       "    \n",
       "    &lt;style&gt;html, body {width: 100%;height: 100%;margin: 0;padding: 0;}&lt;/style&gt;\n",
       "    &lt;style&gt;#map {position:absolute;top:0;bottom:0;right:0;left:0;}&lt;/style&gt;\n",
       "    &lt;script src=&quot;https://cdn.jsdelivr.net/npm/leaflet@1.9.3/dist/leaflet.js&quot;&gt;&lt;/script&gt;\n",
       "    &lt;script src=&quot;https://code.jquery.com/jquery-1.12.4.min.js&quot;&gt;&lt;/script&gt;\n",
       "    &lt;script src=&quot;https://cdn.jsdelivr.net/npm/bootstrap@5.2.2/dist/js/bootstrap.bundle.min.js&quot;&gt;&lt;/script&gt;\n",
       "    &lt;script src=&quot;https://cdnjs.cloudflare.com/ajax/libs/Leaflet.awesome-markers/2.0.2/leaflet.awesome-markers.js&quot;&gt;&lt;/script&gt;\n",
       "    &lt;link rel=&quot;stylesheet&quot; href=&quot;https://cdn.jsdelivr.net/npm/leaflet@1.9.3/dist/leaflet.css&quot;/&gt;\n",
       "    &lt;link rel=&quot;stylesheet&quot; href=&quot;https://cdn.jsdelivr.net/npm/bootstrap@5.2.2/dist/css/bootstrap.min.css&quot;/&gt;\n",
       "    &lt;link rel=&quot;stylesheet&quot; href=&quot;https://netdna.bootstrapcdn.com/bootstrap/3.0.0/css/bootstrap.min.css&quot;/&gt;\n",
       "    &lt;link rel=&quot;stylesheet&quot; href=&quot;https://cdn.jsdelivr.net/npm/@fortawesome/fontawesome-free@6.2.0/css/all.min.css&quot;/&gt;\n",
       "    &lt;link rel=&quot;stylesheet&quot; href=&quot;https://cdnjs.cloudflare.com/ajax/libs/Leaflet.awesome-markers/2.0.2/leaflet.awesome-markers.css&quot;/&gt;\n",
       "    &lt;link rel=&quot;stylesheet&quot; href=&quot;https://cdn.jsdelivr.net/gh/python-visualization/folium/folium/templates/leaflet.awesome.rotate.min.css&quot;/&gt;\n",
       "    \n",
       "            &lt;meta name=&quot;viewport&quot; content=&quot;width=device-width,\n",
       "                initial-scale=1.0, maximum-scale=1.0, user-scalable=no&quot; /&gt;\n",
       "            &lt;style&gt;\n",
       "                #map_776b551b9f87c684ceb2fbc52f57a0f1 {\n",
       "                    position: relative;\n",
       "                    width: 100.0%;\n",
       "                    height: 100.0%;\n",
       "                    left: 0.0%;\n",
       "                    top: 0.0%;\n",
       "                }\n",
       "                .leaflet-container { font-size: 1rem; }\n",
       "            &lt;/style&gt;\n",
       "        \n",
       "    \n",
       "                    &lt;style&gt;\n",
       "                        .foliumtooltip {\n",
       "                            \n",
       "                        }\n",
       "                       .foliumtooltip table{\n",
       "                            margin: auto;\n",
       "                        }\n",
       "                        .foliumtooltip tr{\n",
       "                            text-align: left;\n",
       "                        }\n",
       "                        .foliumtooltip th{\n",
       "                            padding: 2px; padding-right: 8px;\n",
       "                        }\n",
       "                    &lt;/style&gt;\n",
       "            \n",
       "&lt;/head&gt;\n",
       "&lt;body&gt;\n",
       "    \n",
       "    \n",
       "            &lt;div class=&quot;folium-map&quot; id=&quot;map_776b551b9f87c684ceb2fbc52f57a0f1&quot; &gt;&lt;/div&gt;\n",
       "        \n",
       "&lt;/body&gt;\n",
       "&lt;script&gt;\n",
       "    \n",
       "    \n",
       "            var map_776b551b9f87c684ceb2fbc52f57a0f1 = L.map(\n",
       "                &quot;map_776b551b9f87c684ceb2fbc52f57a0f1&quot;,\n",
       "                {\n",
       "                    center: [39.04573906279781, -108.18399134824926],\n",
       "                    crs: L.CRS.EPSG3857,\n",
       "                    zoom: 10,\n",
       "                    zoomControl: true,\n",
       "                    preferCanvas: false,\n",
       "                }\n",
       "            );\n",
       "            L.control.scale().addTo(map_776b551b9f87c684ceb2fbc52f57a0f1);\n",
       "\n",
       "            \n",
       "\n",
       "        \n",
       "    \n",
       "            var tile_layer_5877a59e0207807b691dd149dbb6350d = L.tileLayer(\n",
       "                &quot;https://{s}.tile.openstreetmap.org/{z}/{x}/{y}.png&quot;,\n",
       "                {&quot;attribution&quot;: &quot;Data by \\u0026copy; \\u003ca target=\\&quot;_blank\\&quot; href=\\&quot;http://openstreetmap.org\\&quot;\\u003eOpenStreetMap\\u003c/a\\u003e, under \\u003ca target=\\&quot;_blank\\&quot; href=\\&quot;http://www.openstreetmap.org/copyright\\&quot;\\u003eODbL\\u003c/a\\u003e.&quot;, &quot;detectRetina&quot;: false, &quot;maxNativeZoom&quot;: 18, &quot;maxZoom&quot;: 18, &quot;minZoom&quot;: 0, &quot;noWrap&quot;: false, &quot;opacity&quot;: 1, &quot;subdomains&quot;: &quot;abc&quot;, &quot;tms&quot;: false}\n",
       "            ).addTo(map_776b551b9f87c684ceb2fbc52f57a0f1);\n",
       "        \n",
       "    \n",
       "            map_776b551b9f87c684ceb2fbc52f57a0f1.fitBounds(\n",
       "                [[39.00669498695481, -108.2424442012517], [39.0847831386408, -108.12553849524684]],\n",
       "                {}\n",
       "            );\n",
       "        \n",
       "    \n",
       "        function geo_json_53465efa252751baffcf656d4fec13df_styler(feature) {\n",
       "            switch(feature.id) {\n",
       "                default:\n",
       "                    return {&quot;color&quot;: &quot;magenta&quot;, &quot;fill&quot;: false, &quot;fillOpacity&quot;: 0.5, &quot;weight&quot;: 2};\n",
       "            }\n",
       "        }\n",
       "        function geo_json_53465efa252751baffcf656d4fec13df_highlighter(feature) {\n",
       "            switch(feature.id) {\n",
       "                default:\n",
       "                    return {&quot;fillOpacity&quot;: 0.75};\n",
       "            }\n",
       "        }\n",
       "        function geo_json_53465efa252751baffcf656d4fec13df_pointToLayer(feature, latlng) {\n",
       "            var opts = {&quot;bubblingMouseEvents&quot;: true, &quot;color&quot;: &quot;#3388ff&quot;, &quot;dashArray&quot;: null, &quot;dashOffset&quot;: null, &quot;fill&quot;: true, &quot;fillColor&quot;: &quot;#3388ff&quot;, &quot;fillOpacity&quot;: 0.2, &quot;fillRule&quot;: &quot;evenodd&quot;, &quot;lineCap&quot;: &quot;round&quot;, &quot;lineJoin&quot;: &quot;round&quot;, &quot;opacity&quot;: 1.0, &quot;radius&quot;: 2, &quot;stroke&quot;: true, &quot;weight&quot;: 3};\n",
       "            \n",
       "            let style = geo_json_53465efa252751baffcf656d4fec13df_styler(feature)\n",
       "            Object.assign(opts, style)\n",
       "            \n",
       "            return new L.CircleMarker(latlng, opts)\n",
       "        }\n",
       "\n",
       "        function geo_json_53465efa252751baffcf656d4fec13df_onEachFeature(feature, layer) {\n",
       "            layer.on({\n",
       "                mouseout: function(e) {\n",
       "                    if(typeof e.target.setStyle === &quot;function&quot;){\n",
       "                        geo_json_53465efa252751baffcf656d4fec13df.resetStyle(e.target);\n",
       "                    }\n",
       "                },\n",
       "                mouseover: function(e) {\n",
       "                    if(typeof e.target.setStyle === &quot;function&quot;){\n",
       "                        const highlightStyle = geo_json_53465efa252751baffcf656d4fec13df_highlighter(e.target.feature)\n",
       "                        e.target.setStyle(highlightStyle);\n",
       "                    }\n",
       "                },\n",
       "            });\n",
       "        };\n",
       "        var geo_json_53465efa252751baffcf656d4fec13df = L.geoJson(null, {\n",
       "                onEachFeature: geo_json_53465efa252751baffcf656d4fec13df_onEachFeature,\n",
       "            \n",
       "                style: geo_json_53465efa252751baffcf656d4fec13df_styler,\n",
       "                pointToLayer: geo_json_53465efa252751baffcf656d4fec13df_pointToLayer\n",
       "        });\n",
       "\n",
       "        function geo_json_53465efa252751baffcf656d4fec13df_add (data) {\n",
       "            geo_json_53465efa252751baffcf656d4fec13df\n",
       "                .addData(data)\n",
       "                .addTo(map_776b551b9f87c684ceb2fbc52f57a0f1);\n",
       "        }\n",
       "            geo_json_53465efa252751baffcf656d4fec13df_add({&quot;bbox&quot;: [-108.2424442012517, 39.00669498695481, -108.12553849524684, 39.0847831386408], &quot;features&quot;: [{&quot;bbox&quot;: [-108.2424442012517, 39.00669498695481, -108.12553849524684, 39.0847831386408], &quot;geometry&quot;: {&quot;coordinates&quot;: [[[-108.2424442012517, 39.05249952359773], [-108.21347339947216, 39.029733348705776], [-108.19506841951798, 39.01199182651902], [-108.15996262442047, 39.00669498695481], [-108.12553849524684, 39.00828408047391], [-108.12826515894373, 39.03979372594071], [-108.19029675804846, 39.04958798016176], [-108.21688172909325, 39.0847831386408], [-108.23562754200954, 39.06176272688245], [-108.2424442012517, 39.05249952359773]]], &quot;type&quot;: &quot;Polygon&quot;}, &quot;id&quot;: &quot;0&quot;, &quot;properties&quot;: {}, &quot;type&quot;: &quot;Feature&quot;}], &quot;type&quot;: &quot;FeatureCollection&quot;});\n",
       "\n",
       "        \n",
       "    \n",
       "    geo_json_53465efa252751baffcf656d4fec13df.bindTooltip(\n",
       "    function(layer){\n",
       "    let div = L.DomUtil.create(&#x27;div&#x27;);\n",
       "    \n",
       "    return div\n",
       "    }\n",
       "    ,{&quot;className&quot;: &quot;foliumtooltip&quot;, &quot;sticky&quot;: true});\n",
       "                     \n",
       "&lt;/script&gt;\n",
       "&lt;/html&gt;\" style=\"position:absolute;width:100%;height:100%;left:0;top:0;border:none !important;\" allowfullscreen webkitallowfullscreen mozallowfullscreen></iframe></div></div>"
      ],
      "text/plain": [
       "<folium.folium.Map at 0x7efe36d30df0>"
      ]
     },
     "execution_count": 2,
     "metadata": {},
     "output_type": "execute_result"
    }
   ],
   "source": [
    "aoi_url = '../../sites/grandmesa.geojson'\n",
    "gfa = gpd.read_file(aoi_url)\n",
    "gfa.explore(style_kwds=dict(fill=False, color='magenta'))"
   ]
  },
  {
   "cell_type": "code",
   "execution_count": 3,
   "id": "45bcb902-4fc3-47d2-88f3-aa3af062f350",
   "metadata": {
    "tags": []
   },
   "outputs": [
    {
     "name": "stderr",
     "output_type": "stream",
     "text": [
      "WARNING:sliderule.sliderule:Client (version (3, 6, 0)) is out of date with the server (version (3, 7, 0))\n"
     ]
    }
   ],
   "source": [
    "icesat2.init(\"slideruleearth.io\", verbose=True)"
   ]
  },
  {
   "cell_type": "code",
   "execution_count": 4,
   "id": "7a21f655-59c8-4d47-a577-6239c9eeca42",
   "metadata": {
    "tags": []
   },
   "outputs": [],
   "source": [
    "# Start with all defaults, just Polygon\n",
    "parms = {\n",
    "    \"poly\": sliderule.toregion(gfa)[\"poly\"],\n",
    "    # \"srt\": icesat2.SRT_LAND,\n",
    "    # \"cnf\": icesat2.CNF_SURFACE_HIGH,\n",
    "    # \"len\": 40.0,\n",
    "    # \"res\": 20.0,\n",
    "    # \"maxi\": 6\n",
    "    \"t0\": \"2023-01-01T00:00:00Z\",\n",
    "    \"t1\": \"2024-01-01T00:00:00Z\",\n",
    "}"
   ]
  },
  {
   "cell_type": "code",
   "execution_count": 5,
   "id": "a3e20da9-e2f2-4746-a288-055a4aafa7b9",
   "metadata": {
    "tags": []
   },
   "outputs": [],
   "source": [
    "# Add Raster Sampling\n",
    "# https://www.slideruleearth.io/web/rtd/user_guide/GeoRaster.html\n",
    "parms[\"samples\"] = {\n",
    "            # \"hls\": {\"asset\": \"landsat-hls\", \"bands\": [\"NDSI\"]},\n",
    "            \"strip\": {\"asset\": \"usgs3dep-1meter-dem\", \"radius\":10.0, \"zonal_stats\":True},\n",
    "            #\"mosaic\": {\"asset\": \"arcticdem-mosaic\", \"algorithm\":\"NearestNeighbour\"},\n",
    "            #\"mosaic\": {\"asset\": \"arcticdem-mosaic\", \"radius\": 10.0, \"zonal_stats\": True},\n",
    "            #\"strips\": {\"asset\": \"arcticdem-strips\", \"algorithm\": \"CubicSpline\"}\n",
    "        }"
   ]
  },
  {
   "cell_type": "markdown",
   "id": "607475ce-5d52-432d-8e4d-5f638405a835",
   "metadata": {
    "user_expressions": []
   },
   "source": [
    "### Run sliderule"
   ]
  },
  {
   "cell_type": "code",
   "execution_count": 6,
   "id": "2089e928-b64e-4a49-acbd-b7e5a31818ab",
   "metadata": {
    "tags": []
   },
   "outputs": [
    {
     "data": {
      "text/plain": [
       "{'poly': [{'lon': -108.15996262442047, 'lat': 39.00669498695481},\n",
       "  {'lon': -108.12553849524684, 'lat': 39.00828408047391},\n",
       "  {'lon': -108.12826515894373, 'lat': 39.03979372594071},\n",
       "  {'lon': -108.21688172909325, 'lat': 39.0847831386408},\n",
       "  {'lon': -108.23562754200954, 'lat': 39.06176272688245},\n",
       "  {'lon': -108.2424442012517, 'lat': 39.05249952359773},\n",
       "  {'lon': -108.19506841951798, 'lat': 39.01199182651902},\n",
       "  {'lon': -108.15996262442047, 'lat': 39.00669498695481}],\n",
       " 't0': '2023-01-01T00:00:00Z',\n",
       " 't1': '2024-01-01T00:00:00Z',\n",
       " 'samples': {'strip': {'asset': 'usgs3dep-1meter-dem',\n",
       "   'radius': 10.0,\n",
       "   'zonal_stats': True}}}"
      ]
     },
     "execution_count": 6,
     "metadata": {},
     "output_type": "execute_result"
    }
   ],
   "source": [
    "parms"
   ]
  },
  {
   "cell_type": "code",
   "execution_count": 7,
   "id": "1b34be19-3787-4d6f-9fd7-26447cbeb3da",
   "metadata": {
    "tags": []
   },
   "outputs": [
    {
     "name": "stderr",
     "output_type": "stream",
     "text": [
      "INFO:sliderule.earthdata:Identified 2 resources to process\n",
      "CRITICAL:sliderule.sliderule:request <AppServer.144> failed to create raster strip for ATL03_20230206192127_07371802_006_01.h5\n",
      "INFO:sliderule.sliderule:request <AppServer.144> processing initialized on ATL03_20230206192127_07371802_006_01.h5 ...\n",
      "CRITICAL:sliderule.sliderule:request <AppServer.131> failed to create raster strip for ATL03_20230306061322_11561806_006_01.h5\n",
      "INFO:sliderule.sliderule:request <AppServer.131> processing initialized on ATL03_20230306061322_11561806_006_01.h5 ...\n",
      "INFO:sliderule.sliderule:request <AppServer.131> processing of ATL03_20230306061322_11561806_006_01.h5 complete (0/0/0)\n",
      "INFO:sliderule.sliderule:request <AppServer.131> processing complete (0/0/0/0)\n",
      "INFO:sliderule.sliderule:request <AppServer.144> processing of ATL03_20230206192127_07371802_006_01.h5 complete (228548/38/0)\n",
      "INFO:sliderule.sliderule:Successfully completed processing resource [2 out of 2]: ATL03_20230306061322_11561806_006_01.h5\n",
      "INFO:sliderule.sliderule:request <AppServer.144> processing complete (197/110/284/0)\n",
      "INFO:sliderule.sliderule:Successfully completed processing resource [1 out of 2]: ATL03_20230206192127_07371802_006_01.h5\n"
     ]
    },
    {
     "name": "stdout",
     "output_type": "stream",
     "text": [
      "Start: 2023-02-06\n",
      "End: 2023-02-06\n",
      "Reference Ground Tracks: [737]\n",
      "Cycles: [18]\n",
      "Elevation Measurements: 284 \n",
      "CPU times: user 102 ms, sys: 5.3 ms, total: 107 ms\n",
      "Wall time: 7.79 s\n"
     ]
    },
    {
     "data": {
      "text/html": [
       "<div>\n",
       "<style scoped>\n",
       "    .dataframe tbody tr th:only-of-type {\n",
       "        vertical-align: middle;\n",
       "    }\n",
       "\n",
       "    .dataframe tbody tr th {\n",
       "        vertical-align: top;\n",
       "    }\n",
       "\n",
       "    .dataframe thead th {\n",
       "        text-align: right;\n",
       "    }\n",
       "</style>\n",
       "<table border=\"1\" class=\"dataframe\">\n",
       "  <thead>\n",
       "    <tr style=\"text-align: right;\">\n",
       "      <th></th>\n",
       "      <th>segment_id</th>\n",
       "      <th>distance</th>\n",
       "      <th>dh_fit_dx</th>\n",
       "      <th>rms_misfit</th>\n",
       "      <th>n_fit_photons</th>\n",
       "      <th>h_mean</th>\n",
       "      <th>rgt</th>\n",
       "      <th>pflags</th>\n",
       "      <th>h_sigma</th>\n",
       "      <th>w_surface_window_final</th>\n",
       "      <th>spot</th>\n",
       "      <th>cycle</th>\n",
       "      <th>gt</th>\n",
       "      <th>dh_fit_dy</th>\n",
       "      <th>geometry</th>\n",
       "    </tr>\n",
       "    <tr>\n",
       "      <th>time</th>\n",
       "      <th></th>\n",
       "      <th></th>\n",
       "      <th></th>\n",
       "      <th></th>\n",
       "      <th></th>\n",
       "      <th></th>\n",
       "      <th></th>\n",
       "      <th></th>\n",
       "      <th></th>\n",
       "      <th></th>\n",
       "      <th></th>\n",
       "      <th></th>\n",
       "      <th></th>\n",
       "      <th></th>\n",
       "      <th></th>\n",
       "    </tr>\n",
       "  </thead>\n",
       "  <tbody>\n",
       "    <tr>\n",
       "      <th>2023-02-06 19:24:34.552389888</th>\n",
       "      <td>216445</td>\n",
       "      <td>4.340650e+06</td>\n",
       "      <td>-0.221149</td>\n",
       "      <td>1.136813</td>\n",
       "      <td>13</td>\n",
       "      <td>3098.086954</td>\n",
       "      <td>737</td>\n",
       "      <td>0</td>\n",
       "      <td>0.359040</td>\n",
       "      <td>5.672367</td>\n",
       "      <td>6</td>\n",
       "      <td>18</td>\n",
       "      <td>10</td>\n",
       "      <td>0.0</td>\n",
       "      <td>POINT (-108.14366 39.00761)</td>\n",
       "    </tr>\n",
       "    <tr>\n",
       "      <th>2023-02-06 19:24:34.555207936</th>\n",
       "      <td>216446</td>\n",
       "      <td>4.340670e+06</td>\n",
       "      <td>0.644488</td>\n",
       "      <td>4.249098</td>\n",
       "      <td>66</td>\n",
       "      <td>3100.922838</td>\n",
       "      <td>737</td>\n",
       "      <td>0</td>\n",
       "      <td>0.531968</td>\n",
       "      <td>30.000000</td>\n",
       "      <td>6</td>\n",
       "      <td>18</td>\n",
       "      <td>10</td>\n",
       "      <td>0.0</td>\n",
       "      <td>POINT (-108.14368 39.00779)</td>\n",
       "    </tr>\n",
       "  </tbody>\n",
       "</table>\n",
       "</div>"
      ],
      "text/plain": [
       "                               segment_id      distance  dh_fit_dx  \\\n",
       "time                                                                 \n",
       "2023-02-06 19:24:34.552389888      216445  4.340650e+06  -0.221149   \n",
       "2023-02-06 19:24:34.555207936      216446  4.340670e+06   0.644488   \n",
       "\n",
       "                               rms_misfit  n_fit_photons       h_mean  rgt  \\\n",
       "time                                                                         \n",
       "2023-02-06 19:24:34.552389888    1.136813             13  3098.086954  737   \n",
       "2023-02-06 19:24:34.555207936    4.249098             66  3100.922838  737   \n",
       "\n",
       "                               pflags   h_sigma  w_surface_window_final  spot  \\\n",
       "time                                                                            \n",
       "2023-02-06 19:24:34.552389888       0  0.359040                5.672367     6   \n",
       "2023-02-06 19:24:34.555207936       0  0.531968               30.000000     6   \n",
       "\n",
       "                               cycle  gt  dh_fit_dy  \\\n",
       "time                                                  \n",
       "2023-02-06 19:24:34.552389888     18  10        0.0   \n",
       "2023-02-06 19:24:34.555207936     18  10        0.0   \n",
       "\n",
       "                                                  geometry  \n",
       "time                                                        \n",
       "2023-02-06 19:24:34.552389888  POINT (-108.14366 39.00761)  \n",
       "2023-02-06 19:24:34.555207936  POINT (-108.14368 39.00779)  "
      ]
     },
     "execution_count": 7,
     "metadata": {},
     "output_type": "execute_result"
    }
   ],
   "source": [
    "%%time\n",
    "\n",
    "# Run SlideRule\n",
    "\n",
    "gf = icesat2.atl06p(parms, version='006')\n",
    "\n",
    "print(\"Start:\", gf.index.min().strftime('%Y-%m-%d'))\n",
    "print(\"End:\", gf.index.max().strftime('%Y-%m-%d'))\n",
    "print(\"Reference Ground Tracks: {}\".format(gf[\"rgt\"].unique()))\n",
    "print(\"Cycles: {}\".format(gf[\"cycle\"].unique()))\n",
    "print(\"Elevation Measurements: {} \".format(gf.shape[0]))\n",
    "gf.head(2)"
   ]
  },
  {
   "cell_type": "code",
   "execution_count": null,
   "id": "99e358f5-db44-4c41-9244-a65cfe0e39fe",
   "metadata": {},
   "outputs": [],
   "source": []
  }
 ],
 "metadata": {
  "kernelspec": {
   "display_name": "Python 3 (ipykernel)",
   "language": "python",
   "name": "python3"
  },
  "language_info": {
   "codemirror_mode": {
    "name": "ipython",
    "version": 3
   },
   "file_extension": ".py",
   "mimetype": "text/x-python",
   "name": "python",
   "nbconvert_exporter": "python",
   "pygments_lexer": "ipython3",
   "version": "3.10.12"
  }
 },
 "nbformat": 4,
 "nbformat_minor": 5
}
